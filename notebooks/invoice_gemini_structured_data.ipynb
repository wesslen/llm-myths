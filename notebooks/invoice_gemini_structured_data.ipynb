{
  "nbformat": 4,
  "nbformat_minor": 0,
  "metadata": {
    "colab": {
      "provenance": [],
      "authorship_tag": "ABX9TyPHsCEUagB/ijULVoWovglF",
      "include_colab_link": true
    },
    "kernelspec": {
      "name": "python3",
      "display_name": "Python 3"
    },
    "language_info": {
      "name": "python"
    }
  },
  "cells": [
    {
      "cell_type": "markdown",
      "metadata": {
        "id": "view-in-github",
        "colab_type": "text"
      },
      "source": [
        "<a href=\"https://colab.research.google.com/github/wesslen/llm-myths/blob/main/notebooks/invoice_gemini_structured_data.ipynb\" target=\"_parent\"><img src=\"https://colab.research.google.com/assets/colab-badge.svg\" alt=\"Open In Colab\"/></a>"
      ]
    },
    {
      "cell_type": "markdown",
      "source": [
        "Based on [post by Phil Schmid](https://www.philschmid.de/gemini-pdf-to-data)."
      ],
      "metadata": {
        "id": "tAqkN0ino1Pj"
      }
    },
    {
      "cell_type": "code",
      "execution_count": 1,
      "metadata": {
        "colab": {
          "base_uri": "https://localhost:8080/"
        },
        "id": "aIgNvLEGiH7Z",
        "outputId": "bf5a8f7e-7660-426b-bccd-f27a475b6801"
      },
      "outputs": [
        {
          "output_type": "stream",
          "name": "stdout",
          "text": [
            "\u001b[2mUsing Python 3.11.11 environment at /usr\u001b[0m\n",
            "\u001b[2mAudited \u001b[1m1 package\u001b[0m \u001b[2min 301ms\u001b[0m\u001b[0m\n"
          ]
        }
      ],
      "source": [
        "!uv pip install --system \"google-genai>=1\""
      ]
    },
    {
      "cell_type": "code",
      "source": [
        "from google import genai\n",
        "from google.colab import userdata\n",
        "# Create a client\n",
        "api_key = userdata.get('GOOGLE_API_KEY')\n",
        "client = genai.Client(api_key=api_key)\n",
        "\n",
        "# Define the model you are going to use\n",
        "model_id =  \"gemini-2.0-flash\""
      ],
      "metadata": {
        "id": "Prf1BenDiM4y"
      },
      "execution_count": 2,
      "outputs": []
    },
    {
      "cell_type": "markdown",
      "source": [
        "![](https://storage.googleapis.com/generativeai-downloads/data/pdf_structured_outputs/invoice.png)"
      ],
      "metadata": {
        "id": "9dSSuSaRp3Nx"
      }
    },
    {
      "cell_type": "code",
      "source": [
        "!wget https://storage.googleapis.com/generativeai-downloads/data/pdf_structured_outputs/invoice.pdf"
      ],
      "metadata": {
        "colab": {
          "base_uri": "https://localhost:8080/"
        },
        "id": "5hpWXMhRietN",
        "outputId": "491fae3f-eba9-4c29-d68d-120c113f211a"
      },
      "execution_count": 3,
      "outputs": [
        {
          "output_type": "stream",
          "name": "stdout",
          "text": [
            "--2025-02-10 02:23:03--  https://storage.googleapis.com/generativeai-downloads/data/pdf_structured_outputs/invoice.pdf\n",
            "Resolving storage.googleapis.com (storage.googleapis.com)... 142.250.31.207, 142.251.111.207, 142.251.16.207, ...\n",
            "Connecting to storage.googleapis.com (storage.googleapis.com)|142.250.31.207|:443... connected.\n",
            "HTTP request sent, awaiting response... 200 OK\n",
            "Length: 560986 (548K) [application/pdf]\n",
            "Saving to: ‘invoice.pdf.3’\n",
            "\n",
            "\rinvoice.pdf.3         0%[                    ]       0  --.-KB/s               \rinvoice.pdf.3       100%[===================>] 547.84K  --.-KB/s    in 0.007s  \n",
            "\n",
            "2025-02-10 02:23:03 (80.0 MB/s) - ‘invoice.pdf.3’ saved [560986/560986]\n",
            "\n"
          ]
        }
      ]
    },
    {
      "cell_type": "code",
      "source": [
        "invoice_pdf = client.files.upload(file=\"invoice.pdf\", config={'display_name': 'invoice'})"
      ],
      "metadata": {
        "id": "yt2Pc363idp4"
      },
      "execution_count": 4,
      "outputs": []
    },
    {
      "cell_type": "code",
      "source": [
        "file_size = client.models.count_tokens(model=model_id,contents=invoice_pdf)\n",
        "print(f'File: {invoice_pdf.display_name} equals to {file_size.total_tokens} tokens')\n",
        "# File: invoice equals to 821 tokens"
      ],
      "metadata": {
        "colab": {
          "base_uri": "https://localhost:8080/"
        },
        "id": "mp2jPYgujO_u",
        "outputId": "627f27f0-eef9-4a8a-9b10-15baf408dc9d"
      },
      "execution_count": 5,
      "outputs": [
        {
          "output_type": "stream",
          "name": "stdout",
          "text": [
            "File: invoice equals to 821 tokens\n"
          ]
        }
      ]
    },
    {
      "cell_type": "code",
      "source": [
        "from pydantic import BaseModel, Field\n",
        "\n",
        "def extract_structured_data(file_path: str, model: BaseModel):\n",
        "    # Upload the file to the File API\n",
        "    file = client.files.upload(file=file_path, config={'display_name': file_path.split('/')[-1].split('.')[0]})\n",
        "    # Generate a structured response using the Gemini API\n",
        "    prompt = f\"Extract the structured data from the following PDF file\"\n",
        "    response = client.models.generate_content(model=model_id, contents=[prompt, file], config={'response_mime_type': 'application/json', 'response_schema': model})\n",
        "    # Convert the response to the pydantic model and return it\n",
        "    return response.parsed"
      ],
      "metadata": {
        "id": "6Yopu_bojcry"
      },
      "execution_count": 6,
      "outputs": []
    },
    {
      "cell_type": "code",
      "source": [
        "from pydantic import BaseModel, Field\n",
        "\n",
        "class Item(BaseModel):\n",
        "    description: str = Field(description=\"The description of the item\")\n",
        "    quantity: float = Field(description=\"The Qty of the item\")\n",
        "    gross_worth: float = Field(description=\"The gross worth of the item\")\n",
        "\n",
        "class Invoice(BaseModel):\n",
        "    \"\"\"Extract the invoice number, date and all list items with description, quantity and gross worth and the total gross worth.\"\"\"\n",
        "    invoice_number: str = Field(description=\"The invoice number e.g. 1234567890\")\n",
        "    date: str = Field(description=\"The date of the invoice e.g. 2024-01-01\")\n",
        "    items: list[Item] = Field(description=\"The list of items with description, quantity and gross worth\")\n",
        "    total_gross_worth: float = Field(description=\"The total gross worth of the invoice\")\n",
        "\n",
        "\n",
        "result = extract_structured_data(\"invoice.pdf\", Invoice)\n",
        "print(type(result))\n",
        "print(f\"Extracted Invoice: {result.invoice_number} on {result.date} with total gross worth {result.total_gross_worth}\")\n",
        "for item in result.items:\n",
        "    print(f\"Item: {item.description} with quantity {item.quantity} and gross worth {item.gross_worth}\")"
      ],
      "metadata": {
        "colab": {
          "base_uri": "https://localhost:8080/"
        },
        "id": "FQV7yczYofou",
        "outputId": "a3d203bb-e7c8-4570-f5d2-9bd4cf28b8a4"
      },
      "execution_count": 7,
      "outputs": [
        {
          "output_type": "stream",
          "name": "stdout",
          "text": [
            "<class '__main__.Invoice'>\n",
            "Extracted Invoice: 27301261 on 10/09/2012 with total gross worth 544.46\n",
            "Item: Lilly Pulitzer dress Size 2 with quantity 5.0 and gross worth 247.5\n",
            "Item: New ERIN Erin Fertherston Straight Dress White Sequence Lining Sleeveless SZ 10 with quantity 1.0 and gross worth 65.99\n",
            "Item: Sequence dress Size Small with quantity 3.0 and gross worth 115.5\n",
            "Item: fire los angeles dress Medium with quantity 3.0 and gross worth 21.45\n",
            "Item: Eileen Fisher Women's Long Sleeve Fleece Lined Front Pockets Dress XS Gray with quantity 3.0 and gross worth 52.77\n",
            "Item: Lularoe Nicole Dress Size Small Light Solid Grey/ White Ringer Tee Trim with quantity 2.0 and gross worth 8.25\n",
            "Item: J.Crew Collection Black & White sweater Dress sz S with quantity 1.0 and gross worth 33.0\n"
          ]
        }
      ]
    },
    {
      "cell_type": "code",
      "source": [
        "result.model_dump()"
      ],
      "metadata": {
        "colab": {
          "base_uri": "https://localhost:8080/"
        },
        "id": "-46xu7tUlRxC",
        "outputId": "1d9ccb0d-e309-41a1-dcd7-e2d4399492d9"
      },
      "execution_count": 8,
      "outputs": [
        {
          "output_type": "execute_result",
          "data": {
            "text/plain": [
              "{'invoice_number': '27301261',\n",
              " 'date': '10/09/2012',\n",
              " 'items': [{'description': 'Lilly Pulitzer dress Size 2',\n",
              "   'quantity': 5.0,\n",
              "   'gross_worth': 247.5},\n",
              "  {'description': 'New ERIN Erin Fertherston Straight Dress White Sequence Lining Sleeveless SZ 10',\n",
              "   'quantity': 1.0,\n",
              "   'gross_worth': 65.99},\n",
              "  {'description': 'Sequence dress Size Small',\n",
              "   'quantity': 3.0,\n",
              "   'gross_worth': 115.5},\n",
              "  {'description': 'fire los angeles dress Medium',\n",
              "   'quantity': 3.0,\n",
              "   'gross_worth': 21.45},\n",
              "  {'description': \"Eileen Fisher Women's Long Sleeve Fleece Lined Front Pockets Dress XS Gray\",\n",
              "   'quantity': 3.0,\n",
              "   'gross_worth': 52.77},\n",
              "  {'description': 'Lularoe Nicole Dress Size Small Light Solid Grey/ White Ringer Tee Trim',\n",
              "   'quantity': 2.0,\n",
              "   'gross_worth': 8.25},\n",
              "  {'description': 'J.Crew Collection Black & White sweater Dress sz S',\n",
              "   'quantity': 1.0,\n",
              "   'gross_worth': 33.0}],\n",
              " 'total_gross_worth': 544.46}"
            ]
          },
          "metadata": {},
          "execution_count": 8
        }
      ]
    }
  ]
}